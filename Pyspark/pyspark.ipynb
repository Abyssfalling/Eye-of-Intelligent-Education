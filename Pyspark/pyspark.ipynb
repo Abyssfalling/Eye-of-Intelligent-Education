{
 "cells": [
  {
   "cell_type": "code",
   "execution_count": 3,
   "id": "initial_id",
   "metadata": {
    "collapsed": true,
    "ExecuteTime": {
     "end_time": "2024-04-11T15:23:31.507796Z",
     "start_time": "2024-04-11T15:23:31.489777Z"
    }
   },
   "outputs": [],
   "source": [
    "from pyspark.sql import SparkSession\n",
    "from pyspark.ml.feature import VectorAssembler\n",
    "from pyspark.ml.regression import RandomForestRegressor\n",
    "from pyspark.ml.evaluation import RegressionEvaluator\n",
    "from pyspark.ml.feature import StringIndexer\n",
    "from pyspark.sql.functions import col"
   ]
  },
  {
   "cell_type": "code",
   "outputs": [
    {
     "name": "stdout",
     "output_type": "stream",
     "text": [
      "---course_chapter---\n",
      "+---+--------+-------+------+---+------------+-----------+-----------+------+---------+----------+---------------+-------------------+----------------+----------------+---------------+----------------+\n",
      "| id|courseId|   type|number|seq|       title|createdTime|updatedTime|copyId|   status|isOptional|migrateLessonId|migrateCopyCourseId|migrateRefTaskId|mgrateCopyTaskId|migrate_task_id|published_number|\n",
      "+---+--------+-------+------+---+------------+-----------+-----------+------+---------+----------+---------------+-------------------+----------------+----------------+---------------+----------------+\n",
      "| 13|       3| lesson|     2|  4|        引言| 1536659838| 1560909864|     0|published|         0|              0|                  0|               0|               0|              0|               2|\n",
      "| 14|       3|chapter|     1|  3|机器学习绪论| 1536659876| 1560909861|     0|published|         0|              0|                  0|               0|               0|              0|               0|\n",
      "| 15|       3| lesson|     3|  6|    基本术语| 1536660148| 1560909864|     0|published|         0|              0|                  0|               0|               0|              0|               3|\n",
      "| 16|       3| lesson|     4|  8|    假设空间| 1536660148| 1560909864|     0|published|         0|              0|                  0|               0|               0|              0|               4|\n",
      "| 17|       3| lesson|     5| 10|    归纳偏好| 1536660148| 1560909864|     0|published|         0|              0|                  0|               0|               0|              0|               5|\n",
      "+---+--------+-------+------+---+------------+-----------+-----------+------+---------+----------+---------------+-------------------+----------------+----------------+---------------+----------------+\n",
      "only showing top 5 rows\n",
      "\n",
      "root\n",
      " |-- id: integer (nullable = true)\n",
      " |-- courseId: integer (nullable = true)\n",
      " |-- type: string (nullable = true)\n",
      " |-- number: integer (nullable = true)\n",
      " |-- seq: integer (nullable = true)\n",
      " |-- title: string (nullable = true)\n",
      " |-- createdTime: integer (nullable = true)\n",
      " |-- updatedTime: integer (nullable = true)\n",
      " |-- copyId: integer (nullable = true)\n",
      " |-- status: string (nullable = true)\n",
      " |-- isOptional: integer (nullable = true)\n",
      " |-- migrateLessonId: integer (nullable = true)\n",
      " |-- migrateCopyCourseId: integer (nullable = true)\n",
      " |-- migrateRefTaskId: integer (nullable = true)\n",
      " |-- mgrateCopyTaskId: integer (nullable = true)\n",
      " |-- migrate_task_id: integer (nullable = true)\n",
      " |-- published_number: integer (nullable = true)\n",
      "Total rows: 317635\n",
      "\n",
      "---course_task---\n",
      "+---+--------+---------------+---+----------+----------+----------------+------+----------+---------+-------+---------+-------------+-----------+-----------+------+--------+------+-----+-----------+------+------------+------+---------------+\n",
      "| id|courseId|fromCourseSetId|seq|categoryId|activityId|           title|isFree|isOptional|startTime|endTime|   status|createdUserId|createdTime|updatedTime|  mode|isLesson|number| type|mediaSource|length|maxOnlineNum|copyId|migrateLessonId|\n",
      "+---+--------+---------------+---+----------+----------+----------------+------+----------+---------+-------+---------+-------------+-----------+-----------+------+--------+------+-----+-----------+------+------------+------+---------------+\n",
      "| 11|       3|              3|  5|        13|        11|            引言|     0|         0|        0|      0|published|            3| 1536659838| 1620982123|lesson|       1|     2|video|       self|   564|           0|     0|              0|\n",
      "| 12|       3|              3|  7|        15|        12|        基本术语|     0|         0|        0|      0|published|            3| 1536660148| 1620982123|lesson|       1|     3|video|       self|   562|           0|     0|              0|\n",
      "| 13|       3|              3|  9|        16|        13|        假设空间|     0|         0|        0|      0|published|            3| 1536660148| 1560909861|lesson|       1|     4|video|       self|   361|           0|     0|              0|\n",
      "| 14|       3|              3| 11|        17|        14|        归纳偏好|     0|         0|        0|      0|published|            3| 1536660148| 1560909861|lesson|       1|     5|video|       self|   171|           0|     0|              0|\n",
      "| 17|       3|              3| 16|        21|        17|经验误差与过拟合|     0|         0|        0|      0|published|            3| 1536892001| 1560909861|lesson|       1|     7|video|       self|   447|           0|     0|              0|\n",
      "+---+--------+---------------+---+----------+----------+----------------+------+----------+---------+-------+---------+-------------+-----------+-----------+------+--------+------+-----+-----------+------+------------+------+---------------+\n",
      "only showing top 5 rows\n",
      "\n",
      "root\n",
      " |-- id: integer (nullable = true)\n",
      " |-- courseId: integer (nullable = true)\n",
      " |-- fromCourseSetId: integer (nullable = true)\n",
      " |-- seq: integer (nullable = true)\n",
      " |-- categoryId: integer (nullable = true)\n",
      " |-- activityId: integer (nullable = true)\n",
      " |-- title: string (nullable = true)\n",
      " |-- isFree: integer (nullable = true)\n",
      " |-- isOptional: integer (nullable = true)\n",
      " |-- startTime: integer (nullable = true)\n",
      " |-- endTime: integer (nullable = true)\n",
      " |-- status: string (nullable = true)\n",
      " |-- createdUserId: integer (nullable = true)\n",
      " |-- createdTime: integer (nullable = true)\n",
      " |-- updatedTime: integer (nullable = true)\n",
      " |-- mode: string (nullable = true)\n",
      " |-- isLesson: integer (nullable = true)\n",
      " |-- number: string (nullable = true)\n",
      " |-- type: string (nullable = true)\n",
      " |-- mediaSource: string (nullable = true)\n",
      " |-- length: integer (nullable = true)\n",
      " |-- maxOnlineNum: integer (nullable = true)\n",
      " |-- copyId: integer (nullable = true)\n",
      " |-- migrateLessonId: integer (nullable = true)\n",
      "Total rows: 259238\n",
      "\n",
      "---classroom_member---\n",
      "+---+-----------+------+-------+-------+-------+---------+------+--------------------+-----------+-------------+----------+-----------+--------+--------------+----------------+\n",
      "| id|classroomId|userId|orderId|levelId|noteNum|threadNum|locked|                role|createdTime|lastLearnTime|learnedNum|updatedTime|deadline|refundDeadline|deadlineNotified|\n",
      "+---+-----------+------+-------+-------+-------+---------+------+--------------------+-----------+-------------+----------+-----------+--------+--------------+----------------+\n",
      "|  1|          1|     3|      0|      0|      0|        0|     0||teacher|headTeac...| 1543213508|         null|      null| 1620269259|       0|             0|               0|\n",
      "|  2|          1|   975|      0|      0|      0|        0|     0|           |teacher|| 1543213559|         null|      null| 1543213559|       0|             0|               0|\n",
      "|  3|          1|    14|      0|      0|      0|        0|     0|           |teacher|| 1544524377|         null|      null| 1544524377|       0|             0|               0|\n",
      "|  4|          1|    23|      0|      0|      0|        0|     0|           |teacher|| 1544524377|         null|      null| 1544524377|       0|             0|               0|\n",
      "|  5|          1|    15|      0|      0|      0|        0|     0|           |teacher|| 1544524377|         null|      null| 1544524377|       0|             0|               0|\n",
      "+---+-----------+------+-------+-------+-------+---------+------+--------------------+-----------+-------------+----------+-----------+--------+--------------+----------------+\n",
      "only showing top 5 rows\n",
      "\n",
      "root\n",
      " |-- id: integer (nullable = true)\n",
      " |-- classroomId: integer (nullable = true)\n",
      " |-- userId: integer (nullable = true)\n",
      " |-- orderId: integer (nullable = true)\n",
      " |-- levelId: integer (nullable = true)\n",
      " |-- noteNum: integer (nullable = true)\n",
      " |-- threadNum: integer (nullable = true)\n",
      " |-- locked: integer (nullable = true)\n",
      " |-- role: string (nullable = true)\n",
      " |-- createdTime: integer (nullable = true)\n",
      " |-- lastLearnTime: integer (nullable = true)\n",
      " |-- learnedNum: integer (nullable = true)\n",
      " |-- updatedTime: integer (nullable = true)\n",
      " |-- deadline: integer (nullable = true)\n",
      " |-- refundDeadline: integer (nullable = true)\n",
      " |-- deadlineNotified: integer (nullable = true)\n",
      "\n",
      "Total rows: 111024\n",
      "\n",
      "---classroom_courses---\n",
      "+---+-----------+--------+--------------+---+--------+-----------+\n",
      "| id|classroomId|courseId|parentCourseId|seq|disabled|courseSetId|\n",
      "+---+-----------+--------+--------------+---+--------+-----------+\n",
      "|  2|          1|      43|            41|  3|       0|         40|\n",
      "|  3|          1|      51|             5| 13|       0|         47|\n",
      "|  4|          1|      52|             6| 18|       0|         48|\n",
      "|  5|          1|      53|             8| 12|       0|         49|\n",
      "|  6|          1|      54|             9| 14|       0|         50|\n",
      "+---+-----------+--------+--------------+---+--------+-----------+\n",
      "only showing top 5 rows\n",
      "\n",
      "root\n",
      " |-- id: integer (nullable = true)\n",
      " |-- classroomId: integer (nullable = true)\n",
      " |-- courseId: integer (nullable = true)\n",
      " |-- parentCourseId: integer (nullable = true)\n",
      " |-- seq: integer (nullable = true)\n",
      " |-- disabled: integer (nullable = true)\n",
      " |-- courseSetId: integer (nullable = true)\n",
      "\n",
      "Total rows: 9424\n",
      "\n",
      "---log---\n",
      "+---+------+--------------------+--------------+--------------------+--------------------+--------------------+--------------------+--------------------+--------------------+\n",
      "| id|userId|              module|        action|                data|             browser|     operatingSystem|              device|         createdTime|               level|\n",
      "+---+------+--------------------+--------------+--------------------+--------------------+--------------------+--------------------+--------------------+--------------------+\n",
      "|  1|142708|                user| login_success|                null|Chrome(92.0.4515....|          Windows NT|            computer|          1673232415|                info|\n",
      "|  2|142708|reward_point_acco...|        inflow|\"{\"\"userId\"\":\"\"14...| \"\"type\"\":\"\"inflow\"\"|    \"\"amount\"\":\"\"5\"\"|\"\"targetId\"\":\"\"14...|\"\"targetType\"\":\"\"...|\"\"way\"\":\"\"daily_l...|\n",
      "|  3| 57937|                user| login_success|                null|   Chrome(101.0.0.0)|          Windows NT|            computer|          1673232434|                info|\n",
      "|  4| 57937|reward_point_acco...|        inflow|\"{\"\"userId\"\":\"\"57...| \"\"type\"\":\"\"inflow\"\"|    \"\"amount\"\":\"\"5\"\"|\"\"targetId\"\":\"\"57...|\"\"targetType\"\":\"\"...|\"\"way\"\":\"\"daily_l...|\n",
      "|  5|  9464|           classroom|join_classroom|\"{\"\"userId\"\":\"\"14...|\"\"classroomId\"\":\"...|\"\"title\"\":\"\"\\u301...|Chrome(86.0.4240....|          Windows 98|            computer|\n",
      "+---+------+--------------------+--------------+--------------------+--------------------+--------------------+--------------------+--------------------+--------------------+\n",
      "only showing top 5 rows\n",
      "\n",
      "root\n",
      " |-- id: integer (nullable = true)\n",
      " |-- userId: integer (nullable = true)\n",
      " |-- module: string (nullable = true)\n",
      " |-- action: string (nullable = true)\n",
      " |-- data: string (nullable = true)\n",
      " |-- browser: string (nullable = true)\n",
      " |-- operatingSystem: string (nullable = true)\n",
      " |-- device: string (nullable = true)\n",
      " |-- createdTime: string (nullable = true)\n",
      " |-- level: string (nullable = true)\n",
      "\n",
      "Total rows: 1741719\n",
      "\n",
      "---user_learn_statistics_total---\n",
      "+---+------+------------------+------------------+---------------+----------------+----------------+-------------+--------------+---------------+-----------+-----------+\n",
      "| id|userId|joinedClassroomNum|joinedCourseSetNum|joinedCourseNum|exitClassroomNum|exitCourseSetNum|exitCourseNum|learnedSeconds|finishedTaskNum|createdTime|updatedTime|\n",
      "+---+------+------------------+------------------+---------------+----------------+----------------+-------------+--------------+---------------+-----------+-----------+\n",
      "|  1|     1|                 0|                 0|              0|               0|               0|            0|             0|              0| 1516726801| 1516726801|\n",
      "|  2|     3|                 2|                 0|             15|               1|               0|            3|         23373|              5| 1541098801| 1687719604|\n",
      "|  3|     4|                 4|                 0|             61|               0|               0|            1|         23492|             12| 1541098801| 1682276405|\n",
      "|  4|     7|                 3|                 0|             51|               0|               0|            3|        291483|            103| 1541185201| 1682276405|\n",
      "|  5|     5|                28|                 0|             38|              10|               0|           14|        487216|            176| 1541444401| 1687892406|\n",
      "+---+------+------------------+------------------+---------------+----------------+----------------+-------------+--------------+---------------+-----------+-----------+\n",
      "only showing top 5 rows\n",
      "\n",
      "root\n",
      " |-- id: integer (nullable = true)\n",
      " |-- userId: integer (nullable = true)\n",
      " |-- joinedClassroomNum: integer (nullable = true)\n",
      " |-- joinedCourseSetNum: integer (nullable = true)\n",
      " |-- joinedCourseNum: integer (nullable = true)\n",
      " |-- exitClassroomNum: integer (nullable = true)\n",
      " |-- exitCourseSetNum: integer (nullable = true)\n",
      " |-- exitCourseNum: integer (nullable = true)\n",
      " |-- learnedSeconds: integer (nullable = true)\n",
      " |-- finishedTaskNum: integer (nullable = true)\n",
      " |-- createdTime: integer (nullable = true)\n",
      " |-- updatedTime: integer (nullable = true)\n",
      "\n",
      "Total rows: 142251\n",
      "\n",
      "---activity_learn_log---\n",
      "+---+----------+------------+------+---------+-----+--------------------+--------------------+--------------------+\n",
      "| id|activityId|courseTaskId|userId|mediaType|event|                data|         learnedTime|         createdTime|\n",
      "+---+----------+------------+------+---------+-----+--------------------+--------------------+--------------------+\n",
      "|  1|    255355|      255341|161109|testpaper|start|\"{\"\"taskId\"\":\"\"25...|\"\"event\"\":\"\"start...|                   0|\n",
      "|  2|    256595|      256575|161556|    video|doing|\"{\"\"lastTime\"\":\"\"...|\"\"lastLearnTime\"\"...|\"\"taskId\"\":\"\"2565...|\n",
      "|  3|    263272|      263255|162609|    video|doing|\"{\"\"lastTime\"\":\"\"...|\"\"lastLearnTime\"\"...|\"\"taskId\"\":\"\"2632...|\n",
      "|  4|    255303|      255285|162713|    video|doing|\"{\"\"lastTime\"\":\"\"...|\"\"lastLearnTime\"\"...|\"\"taskId\"\":\"\"2552...|\n",
      "|  5|    253273|      253258|162685|    video|doing|\"{\"\"lastTime\"\":\"\"...|\"\"lastLearnTime\"\"...|\"\"events\"\":{\"\"wat...|\n",
      "+---+----------+------------+------+---------+-----+--------------------+--------------------+--------------------+\n",
      "only showing top 5 rows\n",
      "\n",
      "root\n",
      " |-- id: integer (nullable = true)\n",
      " |-- activityId: integer (nullable = true)\n",
      " |-- courseTaskId: integer (nullable = true)\n",
      " |-- userId: integer (nullable = true)\n",
      " |-- mediaType: string (nullable = true)\n",
      " |-- event: string (nullable = true)\n",
      " |-- data: string (nullable = true)\n",
      " |-- learnedTime: string (nullable = true)\n",
      " |-- createdTime: string (nullable = true)\n",
      "Total rows: 12495466\n",
      "\n",
      "---testpaper---\n",
      "+---+------------------+--------+--------+-----------+------------+------+------+-----+--------------------+---------+---------------+-----------+-----------+--------------------+------------+-----------+\n",
      "| id|              name|courseId|lessonId|limitedTime|     pattern|target|status|score|     passedCondition|itemCount|questionTypeSeq|createdTime|updatedTime|               metas|        type|courseSetId|\n",
      "+---+------------------+--------+--------+-----------+------------+------+------+-----+--------------------+---------+---------------+-----------+-----------+--------------------+------------+-----------+\n",
      "| 16|实训宝邮寄信息填写|      50|       0|          0|questionType|  null|  open|  0.0|\"{\"\"type\"\":\"\"subm...|        3|           null| 1545128560| 1572282002|\"{\"\"totalScores\"\"...|\"\"choice\"\":0|\"\"essay\"\":0|\n",
      "| 17|实训宝邮寄信息填写|      55|       0|          0|questionType|  null|  open|  0.0|\"{\"\"type\"\":\"\"subm...|        3|           null| 1545128581| 1572282002|\"{\"\"totalScores\"\"...|\"\"choice\"\":0|\"\"essay\"\":0|\n",
      "| 18|实训宝邮寄信息填写|      92|       0|          0|questionType|  null|  open|  0.0|\"{\"\"type\"\":\"\"subm...|        3|           null| 1545128581| 1572282002|\"{\"\"totalScores\"\"...|\"\"choice\"\":0|\"\"essay\"\":0|\n",
      "| 19|实训宝邮寄信息填写|      93|       0|          0|questionType|  null|  open|  0.0|\"{\"\"type\"\":\"\"subm...|        3|           null| 1545128581| 1572282002|\"{\"\"totalScores\"\"...|\"\"choice\"\":0|\"\"essay\"\":0|\n",
      "| 20|实训宝邮寄信息填写|      94|       0|          0|questionType|  null|  open|  0.0|\"{\"\"type\"\":\"\"subm...|        3|           null| 1545128581| 1572282002|\"{\"\"totalScores\"\"...|\"\"choice\"\":0|\"\"essay\"\":0|\n",
      "+---+------------------+--------+--------+-----------+------------+------+------+-----+--------------------+---------+---------------+-----------+-----------+--------------------+------------+-----------+\n",
      "only showing top 5 rows\n",
      "\n",
      "root\n",
      " |-- id: integer (nullable = true)\n",
      " |-- name: string (nullable = true)\n",
      " |-- courseId: integer (nullable = true)\n",
      " |-- lessonId: integer (nullable = true)\n",
      " |-- limitedTime: integer (nullable = true)\n",
      " |-- pattern: string (nullable = true)\n",
      " |-- target: string (nullable = true)\n",
      " |-- status: string (nullable = true)\n",
      " |-- score: double (nullable = true)\n",
      " |-- passedCondition: string (nullable = true)\n",
      " |-- itemCount: string (nullable = true)\n",
      " |-- questionTypeSeq: string (nullable = true)\n",
      " |-- createdTime: string (nullable = true)\n",
      " |-- updatedTime: integer (nullable = true)\n",
      " |-- metas: string (nullable = true)\n",
      " |-- type: string (nullable = true)\n",
      " |-- courseSetId: string (nullable = true)\n",
      "\n",
      "Total rows: 12222\n",
      "\n",
      "---testpaper_result---\n",
      "+---+---------+------+------+--------+--------+-----+--------------+---------------+----------+--------------+------------+-----------+----------+----------+----------+-----+--------+--------------+-----------+--------+---------+-----------+\n",
      "| id|paperName|testId|userId|courseId|lessonId|score|objectiveScore|subjectiveScore|teacherSay|rightItemCount|passedStatus|limitedTime| beginTime|   endTime|updateTime|metas|  status|checkTeacherId|checkedTime|usedTime|     type|courseSetId|\n",
      "+---+---------+------+------+--------+--------+-----+--------------+---------------+----------+--------------+------------+-----------+----------+----------+----------+-----+--------+--------------+-----------+--------+---------+-----------+\n",
      "|  1|    作业1|     2|     3|       2|     467|    0|             0|              0|      null|             0|    unpassed|          0|1539336820|1539336839|1539336839| null|finished|             0|          0|      18| homework|          2|\n",
      "|  2|    作业1|     2|     3|       2|     467|    0|             0|              0|      null|             2|   excellent|          0|1539336848|1539336856|1539336856| null|finished|             0|          0|       7| homework|          2|\n",
      "|  3|    作业1|     2|     3|       2|     467|    0|             0|              0|      null|             0|        none|          0|1539336864|         0|         0| null|   doing|             0|          0|       0| homework|          2|\n",
      "|  4|    作业1|     2|   719|       2|     467|    0|             0|              0|      null|             0|    unpassed|          0|1541166545|1541166573|1541166573| null|finished|             0|          0|      27| homework|          2|\n",
      "|  5|    试卷2|     4|     3|       2|     685|    2|             2|              0|      null|             1|      passed|          0|1541497782|1541497796|1541497796| null|finished|             0| 1541497796|      13|testpaper|          2|\n",
      "+---+---------+------+------+--------+--------+-----+--------------+---------------+----------+--------------+------------+-----------+----------+----------+----------+-----+--------+--------------+-----------+--------+---------+-----------+\n",
      "only showing top 5 rows\n",
      "\n",
      "root\n",
      " |-- id: string (nullable = true)\n",
      " |-- paperName: string (nullable = true)\n",
      " |-- testId: string (nullable = true)\n",
      " |-- userId: integer (nullable = true)\n",
      " |-- courseId: integer (nullable = true)\n",
      " |-- lessonId: string (nullable = true)\n",
      " |-- score: string (nullable = true)\n",
      " |-- objectiveScore: string (nullable = true)\n",
      " |-- subjectiveScore: string (nullable = true)\n",
      " |-- teacherSay: string (nullable = true)\n",
      " |-- rightItemCount: integer (nullable = true)\n",
      " |-- passedStatus: string (nullable = true)\n",
      " |-- limitedTime: string (nullable = true)\n",
      " |-- beginTime: integer (nullable = true)\n",
      " |-- endTime: integer (nullable = true)\n",
      " |-- updateTime: integer (nullable = true)\n",
      " |-- metas: string (nullable = true)\n",
      " |-- status: string (nullable = true)\n",
      " |-- checkTeacherId: string (nullable = true)\n",
      " |-- checkedTime: string (nullable = true)\n",
      " |-- usedTime: string (nullable = true)\n",
      " |-- type: string (nullable = true)\n",
      " |-- courseSetId: string (nullable = true)\n",
      "Total rows: 349193\n"
     ]
    }
   ],
   "source": [
    "# 初始化Spark会话\n",
    "spark = SparkSession.builder.appName(\"ExploreEducationData\").getOrCreate()\n",
    "\n",
    "# 数据文件路径\n",
    "path_prefix = \"data/\"  # 需要根据实际情况调整\n",
    "datasets = {\n",
    "    \"course_chapter\": \"course_chapter.csv\",\n",
    "    \"course_task\": \"course_task.csv\",\n",
    "    \"classroom_member\": \"classroom_member.csv\",\n",
    "    \"classroom_courses\": \"classroom_courses.csv\",\n",
    "    \"log\": \"log.csv\",\n",
    "    \"user_learn_statistics_total\": \"user_learn_statistics_total.csv\",\n",
    "    \"activity_learn_log\": \"activity_learn_log.csv\",\n",
    "    \"testpaper\": \"testpaper.csv\",\n",
    "    \"testpaper_result\": \"testpaper_result.csv\",\n",
    "    # \"教学视频\" 对应的数据可能不适合直接以表格形式读取\n",
    "}\n",
    "\n",
    "# 读取所有数据表\n",
    "dataframes = {}\n",
    "for name, file in datasets.items():\n",
    "    df = spark.read.csv(f\"{path_prefix}{file}\", header=True, inferSchema=True)\n",
    "    dataframes[name] = df\n",
    "\n",
    "# 例：查看每个表的基本信息\n",
    "for name, df in dataframes.items():\n",
    "    print(f\"---{name}---\")\n",
    "    df.show(5)  # 显示前5行\n",
    "    df.printSchema()  # 打印表结构\n",
    "    print(f\"Total rows: {df.count()}\\n\")  # 显示总行数\n"
   ],
   "metadata": {
    "collapsed": false,
    "ExecuteTime": {
     "end_time": "2024-04-11T15:23:52.672095Z",
     "start_time": "2024-04-11T15:23:31.525786Z"
    }
   },
   "id": "81c69f43ca579f0e",
   "execution_count": 4
  },
  {
   "cell_type": "code",
   "outputs": [],
   "source": [
    "from pyspark.sql import functions as F"
   ],
   "metadata": {
    "collapsed": false,
    "ExecuteTime": {
     "end_time": "2024-04-11T15:23:52.687117Z",
     "start_time": "2024-04-11T15:23:52.674098Z"
    }
   },
   "id": "64b2be798a25195a",
   "execution_count": 5
  },
  {
   "cell_type": "code",
   "outputs": [
    {
     "name": "stdout",
     "output_type": "stream",
     "text": [
      "+------------+-------------------+------------------+\n",
      "|unique_users|max_learned_seconds|max_finished_tasks|\n",
      "+------------+-------------------+------------------+\n",
      "|      142251|           12778285|              1608|\n",
      "+------------+-------------------+------------------+\n"
     ]
    }
   ],
   "source": [
    "# 用户学习统计的基本统计信息\n",
    "df_user_stats = dataframes[\"user_learn_statistics_total\"]\n",
    "user_learn_stats_summary = df_user_stats.agg(\n",
    "    F.countDistinct(\"userId\").alias(\"unique_users\"),\n",
    "    F.max(\"learnedSeconds\").alias(\"max_learned_seconds\"),\n",
    "    F.max(\"finishedTaskNum\").alias(\"max_finished_tasks\")\n",
    ")\n",
    "user_learn_stats_summary.show()"
   ],
   "metadata": {
    "collapsed": false,
    "ExecuteTime": {
     "end_time": "2024-04-11T15:23:53.463059Z",
     "start_time": "2024-04-11T15:23:52.689100Z"
    }
   },
   "id": "5d384b9f52342f25",
   "execution_count": 6
  },
  {
   "cell_type": "code",
   "outputs": [
    {
     "name": "stdout",
     "output_type": "stream",
     "text": [
      "+--------------+-----------+---------------+\n",
      "|unique_courses|total_tasks|max_task_length|\n",
      "+--------------+-----------+---------------+\n",
      "|         11468|     259238|          14757|\n",
      "+--------------+-----------+---------------+\n"
     ]
    }
   ],
   "source": [
    "# 课程任务的统计信息\n",
    "df_course_task = dataframes[\"course_task\"]\n",
    "\n",
    "course_task_summary = df_course_task.agg(\n",
    "    F.countDistinct(\"courseId\").alias(\"unique_courses\"),\n",
    "    F.count(\"id\").alias(\"total_tasks\"),\n",
    "    F.max(\"length\").alias(\"max_task_length\")\n",
    ")\n",
    "course_task_summary.show()"
   ],
   "metadata": {
    "collapsed": false,
    "ExecuteTime": {
     "end_time": "2024-04-11T15:23:54.617053Z",
     "start_time": "2024-04-11T15:23:53.464064Z"
    }
   },
   "id": "601110ec335b7428",
   "execution_count": 7
  },
  {
   "cell_type": "code",
   "outputs": [
    {
     "name": "stdout",
     "output_type": "stream",
     "text": [
      "+---------+------------------+\n",
      "|max_score|unique_test_takers|\n",
      "+---------+------------------+\n",
      "|     99.5|             35642|\n",
      "+---------+------------------+\n"
     ]
    }
   ],
   "source": [
    "# 试卷成绩的最高排名等统计信息\n",
    "df_testpaper_result = dataframes[\"testpaper_result\"]\n",
    "testpaper_result_summary = df_testpaper_result.agg(\n",
    "    F.max(\"score\").alias(\"max_score\"),\n",
    "    F.countDistinct(\"userId\").alias(\"unique_test_takers\")\n",
    ")\n",
    "testpaper_result_summary.show()"
   ],
   "metadata": {
    "collapsed": false,
    "ExecuteTime": {
     "end_time": "2024-04-11T15:23:56.747031Z",
     "start_time": "2024-04-11T15:23:54.619054Z"
    }
   },
   "id": "b63dc3138b736929",
   "execution_count": 8
  },
  {
   "cell_type": "code",
   "outputs": [
    {
     "name": "stdout",
     "output_type": "stream",
     "text": [
      "+------+--------------+\n",
      "|userId|activity_count|\n",
      "+------+--------------+\n",
      "|155471|         44486|\n",
      "|165559|         40673|\n",
      "|     0|         40221|\n",
      "| 79144|         16257|\n",
      "|160105|         15907|\n",
      "+------+--------------+\n"
     ]
    }
   ],
   "source": [
    "# 日志记录的统计信息，如最活跃的用户\n",
    "\n",
    "df_log = dataframes[\"log\"]\n",
    "log_summary = df_log.groupBy(\"userId\").count().withColumnRenamed(\"count\", \"activity_count\").orderBy(F.desc(\"activity_count\"))\n",
    "log_summary.show(5)  # 显示前5个最活跃的用户"
   ],
   "metadata": {
    "collapsed": false,
    "ExecuteTime": {
     "end_time": "2024-04-11T15:23:58.380606Z",
     "start_time": "2024-04-11T15:23:56.749043Z"
    }
   },
   "id": "10efe8f26dbd80af",
   "execution_count": 9
  },
  {
   "cell_type": "code",
   "outputs": [
    {
     "name": "stdout",
     "output_type": "stream",
     "text": [
      "+--------+-------+\n",
      "|   event|  count|\n",
      "+--------+-------+\n",
      "|   doing|9561272|\n",
      "|watching|1931242|\n",
      "|   start| 605537|\n",
      "|  finish| 397415|\n",
      "+--------+-------+\n"
     ]
    }
   ],
   "source": [
    "# 学习日志的统计信息，如最常见的学习行为\n",
    "df_activity_learn_log = dataframes[\"activity_learn_log\"]\n",
    "learn_log_summary = df_activity_learn_log.groupBy(\"event\").count().orderBy(F.desc(\"count\"))\n",
    "learn_log_summary.show()"
   ],
   "metadata": {
    "collapsed": false,
    "ExecuteTime": {
     "end_time": "2024-04-11T15:24:01.366497Z",
     "start_time": "2024-04-11T15:23:58.382606Z"
    }
   },
   "id": "929184419d238a8c",
   "execution_count": 10
  },
  {
   "cell_type": "markdown",
   "source": [
    "1. 课程效果评估\n",
    "课程效果评估可以通过课程的完成度、学习成绩、用户反馈等多个角度来分析。"
   ],
   "metadata": {
    "collapsed": false
   },
   "id": "ef8d5ba3215dcaf0"
  },
  {
   "cell_type": "code",
   "outputs": [
    {
     "name": "stdout",
     "output_type": "stream",
     "text": [
      "+--------+-------------+----------+-------------+\n",
      "|courseId|chapter_count|task_count|student_count|\n",
      "+--------+-------------+----------+-------------+\n",
      "|     451|            2|         2|            3|\n",
      "|     255|            8|         7|            1|\n",
      "|     368|           78|        70|            1|\n",
      "|     385|           12|        13|            4|\n",
      "|     436|           37|        27|            1|\n",
      "|     412|           60|        50|           18|\n",
      "|      26|           56|        42|            2|\n",
      "|     384|          182|       151|            5|\n",
      "|     271|           76|        69|            6|\n",
      "|     743|           12|        10|           26|\n",
      "|     253|           12|        11|            5|\n",
      "|      12|           19|        15|            1|\n",
      "|     350|           63|        32|            1|\n",
      "|     417|           37|        29|           65|\n",
      "|     548|           18|        22|            2|\n",
      "|     409|           31|        24|            1|\n",
      "|     601|           11|        11|           14|\n",
      "|      22|          139|        95|            4|\n",
      "|     416|           39|        30|            2|\n",
      "|     665|            4|         4|            1|\n",
      "+--------+-------------+----------+-------------+\n"
     ]
    }
   ],
   "source": [
    "from pyspark.sql import functions as F\n",
    "\n",
    "# 正确的课程参与度分析，包括章节数量、任务数量和参与学生数量\n",
    "# 首先获取courseId和courseTaskId的对应关系\n",
    "task_course_mapping = dataframes[\"course_task\"].select(\"courseId\", \"id\").withColumnRenamed(\"id\", \"courseTaskId\")\n",
    "\n",
    "# 将activity_learn_log与task_course_mapping连接，以获取每个学习记录所对应的courseId\n",
    "activity_course_mapping = dataframes[\"activity_learn_log\"].join(task_course_mapping, \"courseTaskId\")\n",
    "\n",
    "# 现在，我们可以根据courseId来聚合，计算每门课程的参与学生数量\n",
    "course_student_count_correct = activity_course_mapping.groupBy(\"courseId\").agg(F.countDistinct(\"userId\").alias(\"student_count\"))\n",
    "\n",
    "# 课程的章节数量\n",
    "course_chapter_count = dataframes[\"course_chapter\"].groupBy(\"courseId\").count().withColumnRenamed(\"count\", \"chapter_count\")\n",
    "\n",
    "# 课程的任务数量\n",
    "course_task_count = dataframes[\"course_task\"].groupBy(\"courseId\").count().withColumnRenamed(\"count\", \"task_count\")\n",
    "\n",
    "# 连接上述统计信息以进行分析\n",
    "course_analysis = course_chapter_count.join(course_task_count, \"courseId\").join(course_student_count_correct, \"courseId\")\n",
    "\n",
    "course_analysis.show()\n"
   ],
   "metadata": {
    "collapsed": false,
    "ExecuteTime": {
     "end_time": "2024-04-11T15:24:07.428133Z",
     "start_time": "2024-04-11T15:24:01.368005Z"
    }
   },
   "id": "a4423c54ea4701fc",
   "execution_count": 11
  },
  {
   "cell_type": "code",
   "outputs": [
    {
     "name": "stdout",
     "output_type": "stream",
     "text": [
      "+--------+--------------+\n",
      "|courseId|completionRate|\n",
      "+--------+--------------+\n",
      "|     148|           1.0|\n",
      "|     463|           1.0|\n",
      "|     471|           1.0|\n",
      "|     496|           1.0|\n",
      "|     833|           1.0|\n",
      "|     243|           1.0|\n",
      "|     392|           1.0|\n",
      "|     540|           1.0|\n",
      "|     623|           1.0|\n",
      "|     737|           1.0|\n",
      "|     858|           1.0|\n",
      "|     897|           1.0|\n",
      "|    1025|           1.0|\n",
      "|     516|           1.0|\n",
      "|      85|           1.0|\n",
      "|     137|           1.0|\n",
      "|     251|           1.0|\n",
      "|     451|           1.0|\n",
      "|     580|           1.0|\n",
      "|     808|           1.0|\n",
      "+--------+--------------+\n"
     ]
    }
   ],
   "source": [
    "from pyspark.sql import functions as F\n",
    "\n",
    "# 计算每个课程的完成任务数量\n",
    "course_completed_tasks = dataframes['course_task'].groupBy('courseId') \\\n",
    "    .agg(F.count('id').alias('completedTasks'))\n",
    "\n",
    "# 计算每个课程的总任务数量\n",
    "course_total_tasks = dataframes['course_task'].groupBy('courseId') \\\n",
    "    .agg(F.count('id').alias('totalTasks'))\n",
    "\n",
    "# 计算完成率\n",
    "course_completion_rate = course_completed_tasks.join(course_total_tasks, 'courseId') \\\n",
    "    .select('courseId', (F.col('completedTasks') / F.col('totalTasks')).alias('completionRate'))\n",
    "\n",
    "course_completion_rate.show()\n"
   ],
   "metadata": {
    "collapsed": false,
    "ExecuteTime": {
     "end_time": "2024-04-11T15:29:13.357497Z",
     "start_time": "2024-04-11T15:29:12.521546Z"
    }
   },
   "id": "4af762754174a774",
   "execution_count": 20
  },
  {
   "cell_type": "markdown",
   "source": [
    "2. 教学视频质量分析\n",
    "分析视频的观看时长、重复观看次数等，可以初步评估视频质量。"
   ],
   "metadata": {
    "collapsed": false
   },
   "id": "e50db52088526c51"
  },
  {
   "cell_type": "markdown",
   "source": [
    "方向2: 学生学习行为分析\n",
    "分析学生的学习行为，例如学习视频的平均时长、完成的任务数量等。"
   ],
   "metadata": {
    "collapsed": false
   },
   "id": "e299047f3816d5d1"
  },
  {
   "cell_type": "code",
   "outputs": [
    {
     "name": "stdout",
     "output_type": "stream",
     "text": [
      "+------+-------------------+--------------------+\n",
      "|userId|avg_learned_seconds|total_finished_tasks|\n",
      "+------+-------------------+--------------------+\n",
      "|   148|               17.0|                   0|\n",
      "|   463|           215584.0|                  21|\n",
      "|   471|            10914.0|                   8|\n",
      "|   496|             3400.0|                   0|\n",
      "|   833|             9665.0|                   1|\n",
      "|  1088|            22953.0|                   4|\n",
      "|  1238|             5937.0|                   3|\n",
      "|  1342|              128.0|                   0|\n",
      "|  1580|            14666.0|                   3|\n",
      "|  1591|               41.0|                   1|\n",
      "|  1645|             5649.0|                   3|\n",
      "|  1829|               75.0|                   1|\n",
      "|  1959|              121.0|                   0|\n",
      "|  2122|             4817.0|                   1|\n",
      "|  2142|               18.0|                   0|\n",
      "|  2366|              549.0|                   2|\n",
      "|  2866|               48.0|                   1|\n",
      "|  3175|            65633.0|                   9|\n",
      "|  3749|                0.0|                   0|\n",
      "|  3794|             3104.0|                   1|\n",
      "+------+-------------------+--------------------+\n"
     ]
    }
   ],
   "source": [
    "from pyspark.sql.types import IntegerType\n",
    "\n",
    "# 转换学习时长的数据类型\n",
    "dataframes[\"user_learn_statistics_total\"] = dataframes[\"user_learn_statistics_total\"].withColumn(\"learnedSeconds\", col(\"learnedSeconds\").cast(IntegerType()))\n",
    "\n",
    "# 计算每个学生的平均学习时长和完成的任务数量\n",
    "student_learn_behavior = dataframes[\"user_learn_statistics_total\"].groupBy(\"userId\").agg(\n",
    "    F.avg(\"learnedSeconds\").alias(\"avg_learned_seconds\"),\n",
    "    F.sum(\"finishedTaskNum\").alias(\"total_finished_tasks\")\n",
    ")\n",
    "\n",
    "student_learn_behavior.show()\n"
   ],
   "metadata": {
    "collapsed": false,
    "ExecuteTime": {
     "end_time": "2024-04-11T15:24:08.031684Z",
     "start_time": "2024-04-11T15:24:07.429133Z"
    }
   },
   "id": "d914fd20518d56d4",
   "execution_count": 12
  },
  {
   "cell_type": "markdown",
   "source": [],
   "metadata": {
    "collapsed": false
   },
   "id": "fa5eb87eeb714e56"
  },
  {
   "cell_type": "markdown",
   "source": [
    "方向4: 测试结果分析\n",
    "分析测试结果，例如平均分数、通过率等"
   ],
   "metadata": {
    "collapsed": false
   },
   "id": "2e94041f7b17dbc1"
  },
  {
   "cell_type": "code",
   "outputs": [
    {
     "name": "stdout",
     "output_type": "stream",
     "text": [
      "+------+------------------+-------------------+\n",
      "|testId|         avg_score|          pass_rate|\n",
      "+------+------------------+-------------------+\n",
      "|  1090|               0.0|                0.0|\n",
      "|  2136|               0.0|                0.0|\n",
      "|  1159|               0.0|                0.0|\n",
      "|   125|               0.0|                0.0|\n",
      "|  2275|18.341463414634145|                1.0|\n",
      "|  2393|17.391304347826086| 0.9782608695652174|\n",
      "|   919|               0.0|                0.0|\n",
      "|  1241|               0.0|0.10526315789473684|\n",
      "|  1265|               0.0|                0.0|\n",
      "|   124|               0.0|0.05263157894736842|\n",
      "|   475|               0.0|                0.0|\n",
      "|   574|               0.0|                0.0|\n",
      "|  1695| 35.92307692307692|                0.0|\n",
      "|  1773|              13.2|                0.7|\n",
      "|  1445|               0.0|               0.04|\n",
      "|   205|               0.0|                0.0|\n",
      "|   334|               0.0|0.10256410256410256|\n",
      "|   544|               0.0|                0.2|\n",
      "|  2129|               0.0| 0.0196078431372549|\n",
      "|  1987|17.575757575757574| 0.9848484848484849|\n",
      "+------+------------------+-------------------+\n"
     ]
    }
   ],
   "source": [
    "# 将分数列转换为浮点数\n",
    "dataframes[\"testpaper_result\"] = dataframes[\"testpaper_result\"].withColumn(\"score\", col(\"score\").cast(\"float\"))\n",
    "\n",
    "# 计算每次测试的平均分和通过率\n",
    "test_result_analysis = dataframes[\"testpaper_result\"].groupBy(\"testId\").agg(\n",
    "    F.avg(\"score\").alias(\"avg_score\"),\n",
    "    (F.sum(F.when(col(\"passedStatus\") == \"passed\", 1).otherwise(0)) / F.count(\"testId\")).alias(\"pass_rate\")\n",
    ")\n",
    "\n",
    "test_result_analysis.show()\n"
   ],
   "metadata": {
    "collapsed": false,
    "ExecuteTime": {
     "end_time": "2024-04-11T15:24:09.314585Z",
     "start_time": "2024-04-11T15:24:08.033684Z"
    }
   },
   "id": "f66e33322b15173c",
   "execution_count": 13
  },
  {
   "cell_type": "code",
   "outputs": [
    {
     "name": "stdout",
     "output_type": "stream",
     "text": [
      "+--------+-------------+\n",
      "|courseId|student_count|\n",
      "+--------+-------------+\n",
      "|   11033|          130|\n",
      "|   10623|           14|\n",
      "|   11317|            1|\n",
      "|   10206|           12|\n",
      "|   11748|            2|\n",
      "|   11858|           15|\n",
      "|   12027|           10|\n",
      "|    1645|            1|\n",
      "|   12046|            1|\n",
      "|    7554|            1|\n",
      "|    2580|            4|\n",
      "|   10230|           13|\n",
      "|   10703|            8|\n",
      "|    7417|            1|\n",
      "|    3475|            1|\n",
      "|   11316|            1|\n",
      "|   10462|           10|\n",
      "|    2811|            1|\n",
      "|   10121|            4|\n",
      "|   11710|            1|\n",
      "+--------+-------------+\n"
     ]
    }
   ],
   "source": [
    "from pyspark.sql.functions import countDistinct\n",
    "\n",
    "# 使用activity_learn_log与task_course_mapping进行连接，以便获取每个学习活动对应的课程ID\n",
    "activity_course_mapping = dataframes[\"activity_learn_log\"].join(task_course_mapping, \"courseTaskId\")\n",
    "\n",
    "# 根据courseId对结果进行分组，并计算每门课程的参与学生数量\n",
    "course_student_count = activity_course_mapping.groupBy(\"courseId\").agg(countDistinct(\"userId\").alias(\"student_count\"))\n",
    "\n",
    "course_student_count.show()\n"
   ],
   "metadata": {
    "collapsed": false,
    "ExecuteTime": {
     "end_time": "2024-04-11T15:24:13.812741Z",
     "start_time": "2024-04-11T15:24:09.316560Z"
    }
   },
   "id": "ec9297cafa21ff15",
   "execution_count": 14
  },
  {
   "cell_type": "code",
   "outputs": [
    {
     "name": "stdout",
     "output_type": "stream",
     "text": [
      "+--------+----------+-------------+---------------------+\n",
      "|courseId|task_count|student_count|avg_tasks_per_student|\n",
      "+--------+----------+-------------+---------------------+\n",
      "|   11033|        63|          130|   0.4846153846153846|\n",
      "|   10623|        67|           14|    4.785714285714286|\n",
      "|   11317|         7|            1|                  7.0|\n",
      "|   10206|        20|           12|   1.6666666666666667|\n",
      "|   11748|        20|            2|                 10.0|\n",
      "|   11858|         3|           15|                  0.2|\n",
      "|   12027|        66|           10|                  6.6|\n",
      "|    1645|        35|            1|                 35.0|\n",
      "|   12046|        14|            1|                 14.0|\n",
      "|    7554|         6|            1|                  6.0|\n",
      "|    2580|        20|            4|                  5.0|\n",
      "|   10230|        30|           13|   2.3076923076923075|\n",
      "|   10703|         4|            8|                  0.5|\n",
      "|    7417|        59|            1|                 59.0|\n",
      "|    3475|        13|            1|                 13.0|\n",
      "|   11316|        20|            1|                 20.0|\n",
      "|   10462|        13|           10|                  1.3|\n",
      "|    2811|        38|            1|                 38.0|\n",
      "|   10121|        25|            4|                 6.25|\n",
      "|   11710|        50|            1|                 50.0|\n",
      "+--------+----------+-------------+---------------------+\n"
     ]
    }
   ],
   "source": [
    "# 计算每门课程的平均每名学生完成的任务数量\n",
    "course_participation = course_task_count.join(course_student_count, \"courseId\").withColumn(\n",
    "    \"avg_tasks_per_student\", \n",
    "    F.col(\"task_count\") / F.col(\"student_count\")\n",
    ")\n",
    "\n",
    "course_participation.show()\n"
   ],
   "metadata": {
    "collapsed": false,
    "ExecuteTime": {
     "end_time": "2024-04-11T15:24:18.890828Z",
     "start_time": "2024-04-11T15:24:13.813722Z"
    }
   },
   "id": "cc8ac6fc9e5885c1",
   "execution_count": 15
  },
  {
   "cell_type": "code",
   "outputs": [
    {
     "name": "stdout",
     "output_type": "stream",
     "text": [
      "+----------+------------------+\n",
      "|  courseId|         avg_score|\n",
      "+----------+------------------+\n",
      "|1576143326|     1.578298752E9|\n",
      "|       858| 8.678378378378378|\n",
      "|1578460928|     1.578550144E9|\n",
      "|       580|               0.0|\n",
      "|       879|  9.35036496350365|\n",
      "|       883|              31.5|\n",
      "|       804|5.0442890442890445|\n",
      "|       853| 6.170357751277683|\n",
      "|       857| 8.865131578947368|\n",
      "|       593|               0.0|\n",
      "|       683|3.2977099236641223|\n",
      "|       796| 7.154696132596685|\n",
      "|       772| 83.21428571428571|\n",
      "|       756| 4.698080279232112|\n",
      "|       385|               0.0|\n",
      "|        81|               0.0|\n",
      "|1576764152|     1.578300416E9|\n",
      "|1577261130|     1.578301056E9|\n",
      "|       830| 7.383838383838384|\n",
      "|       762| 3.013824884792627|\n",
      "+----------+------------------+\n"
     ]
    }
   ],
   "source": [
    "# 假设testpaper_result DataFrame已经准备好\n",
    "# 转换score为浮点数\n",
    "from pyspark.sql.types import FloatType\n",
    "testpaper_result = dataframes[\"testpaper_result\"].withColumn(\"score\", col(\"score\").cast(FloatType()))\n",
    "\n",
    "# 计算每门课程的平均分数\n",
    "course_avg_score = testpaper_result.groupBy(\"courseId\").agg(F.avg(\"score\").alias(\"avg_score\"))\n",
    "\n",
    "course_avg_score.show()\n"
   ],
   "metadata": {
    "collapsed": false,
    "ExecuteTime": {
     "end_time": "2024-04-11T15:24:19.898699Z",
     "start_time": "2024-04-11T15:24:18.892828Z"
    }
   },
   "id": "6bcb4edf97257cb0",
   "execution_count": 16
  },
  {
   "cell_type": "code",
   "outputs": [
    {
     "name": "stdout",
     "output_type": "stream",
     "text": [
      "+--------+----------+-------------+------------------+\n",
      "|courseId|task_count|student_count|         avg_score|\n",
      "+--------+----------+-------------+------------------+\n",
      "|    1645|        35|            1| 7.117647058823529|\n",
      "|    7554|         6|            1|               0.0|\n",
      "|    2580|        20|            4|               0.0|\n",
      "|    3475|        13|            1|               0.0|\n",
      "|    2811|        38|            1| 8.265486725663717|\n",
      "|   12715|         3|            5| 83.33333333333333|\n",
      "|   10468|         8|            1|               0.0|\n",
      "|   10815|        10|           16|               0.0|\n",
      "|   12210|         1|           54| 78.47169811320755|\n",
      "|    6934|         9|            1|               0.0|\n",
      "|   11468|         3|            6|53.333333333333336|\n",
      "|    2625|         1|            1| 77.55703883495146|\n",
      "|   12336|         6|           82| 31.52310924369748|\n",
      "|   11059|         3|           28|29.833333333333332|\n",
      "|    8003|        17|           14|               0.0|\n",
      "|    8423|        15|           41|               0.0|\n",
      "|    1525|         3|            1| 74.18604651162791|\n",
      "|   10334|         3|           26| 75.83333333333333|\n",
      "|    9562|         6|            1| 30.68421052631579|\n",
      "|   11876|        14|            5|               0.0|\n",
      "+--------+----------+-------------+------------------+\n"
     ]
    }
   ],
   "source": [
    "# 假设course_task_count和course_student_count已准备好\n",
    "# 结合课程参与度指标\n",
    "course_participation = course_task_count.join(course_student_count, \"courseId\")\n",
    "\n",
    "# 结合学习成果\n",
    "course_analysis = course_participation.join(course_avg_score, \"courseId\")\n",
    "\n",
    "course_analysis.show()\n"
   ],
   "metadata": {
    "collapsed": false,
    "ExecuteTime": {
     "end_time": "2024-04-11T15:24:25.175039Z",
     "start_time": "2024-04-11T15:24:19.900700Z"
    }
   },
   "id": "a804560697fcb3f3",
   "execution_count": 17
  },
  {
   "cell_type": "code",
   "outputs": [
    {
     "name": "stdout",
     "output_type": "stream",
     "text": [
      "The correlation between task_count and average score is: -0.38467894012801457\n",
      "The correlation between student_count and average score is: 0.05668126870898684\n"
     ]
    }
   ],
   "source": [
    "# 计算平均任务完成率与平均分数之间的相关系数\n",
    "for col_name in [\"task_count\", \"student_count\"]:\n",
    "    correlation = course_analysis.stat.corr(col_name, \"avg_score\")\n",
    "    print(f\"The correlation between {col_name} and average score is: {correlation}\")\n"
   ],
   "metadata": {
    "collapsed": false,
    "ExecuteTime": {
     "end_time": "2024-04-11T15:24:35.548925Z",
     "start_time": "2024-04-11T15:24:25.176038Z"
    }
   },
   "id": "a94a464558ad982c",
   "execution_count": 18
  },
  {
   "cell_type": "code",
   "outputs": [
    {
     "name": "stdout",
     "output_type": "stream",
     "text": [
      "+------+--------------+----------+------------------+------------------+\n",
      "|userId|activity_score|task_score|        test_score|     overall_score|\n",
      "+------+--------------+----------+------------------+------------------+\n",
      "|167157|         31477|       158| 42.27777777777778|10559.092592592593|\n",
      "|  5183|         29031|       493|               6.5|            9843.5|\n",
      "|159863|         27987|       276|30.857142857142858| 9431.285714285714|\n",
      "|145060|         22993|       479| 66.33333333333333|  7846.11111111111|\n",
      "|164177|         20639|       228|36.285714285714285| 6967.761904761905|\n",
      "|158920|         18443|       361|12.785714285714286| 6272.261904761905|\n",
      "|162613|         18263|       199|              37.0| 6166.333333333333|\n",
      "|169488|         18360|       125|               0.0| 6161.666666666667|\n",
      "|167698|         17771|       210|            46.875| 6009.291666666667|\n",
      "|164169|         17293|       344|30.964285714285715| 5889.321428571428|\n",
      "|168274|         17196|       202|              30.2| 5809.400000000001|\n",
      "| 81492|         16765|       112|26.055555555555557| 5634.351851851851|\n",
      "|167278|         16318|       167|              14.5| 5499.833333333333|\n",
      "| 64882|         15471|       870| 16.28048780487805| 5452.426829268293|\n",
      "|160764|         15940|       212|61.333333333333336| 5404.444444444444|\n",
      "|161881|         15676|       271|12.710526315789474|  5319.90350877193|\n",
      "|162601|         15178|       455|              69.5| 5234.166666666667|\n",
      "|158437|         15141|       430|48.333333333333336| 5206.444444444444|\n",
      "|167660|         15204|       227| 53.13636363636363| 5161.378787878788|\n",
      "|167331|         15135|       254|               0.0| 5129.666666666667|\n",
      "+------+--------------+----------+------------------+------------------+\n"
     ]
    }
   ],
   "source": [
    "from pyspark.sql.functions import col, avg\n",
    "\n",
    "# 计算每个学生的学习活动参与度\n",
    "student_activity_score = dataframes[\"activity_learn_log\"].groupBy(\"userId\").count().withColumnRenamed(\"count\", \"activity_score\")\n",
    "\n",
    "# 计算每个学生的课程完成度得分\n",
    "student_task_score = dataframes[\"user_learn_statistics_total\"].select(\"userId\", \"finishedTaskNum\").withColumnRenamed(\"finishedTaskNum\", \"task_score\")\n",
    "\n",
    "# 计算每个学生的学习成果得分（平均考试分数）\n",
    "# 假设testpaper_result已经被转换成了适当的数值类型\n",
    "student_test_score = dataframes[\"testpaper_result\"].groupBy(\"userId\").agg(avg(\"score\").alias(\"test_score\"))\n",
    "\n",
    "# 合并这些得分\n",
    "student_scores = student_activity_score.join(student_task_score, \"userId\", \"outer\").join(student_test_score, \"userId\", \"outer\")\n",
    "\n",
    "# 计算综合评分，这里我们简单地取平均值作为综合评分\n",
    "student_overall_score = student_scores.withColumn(\n",
    "    \"overall_score\",\n",
    "    (col(\"activity_score\") + col(\"task_score\") + col(\"test_score\")) / 3\n",
    ")\n",
    "\n",
    "# 选择综合评分最高的前十名学生\n",
    "top_students = student_overall_score.orderBy(col(\"overall_score\").desc())\n",
    "\n",
    "top_students.show()\n"
   ],
   "metadata": {
    "collapsed": false,
    "ExecuteTime": {
     "end_time": "2024-04-11T15:36:41.481099Z",
     "start_time": "2024-04-11T15:36:36.664792Z"
    }
   },
   "id": "7031c0af38d56e4e",
   "execution_count": 22
  },
  {
   "cell_type": "code",
   "outputs": [
    {
     "ename": "NameError",
     "evalue": "name 'dataframes' is not defined",
     "output_type": "error",
     "traceback": [
      "\u001B[1;31m---------------------------------------------------------------------------\u001B[0m",
      "\u001B[1;31mNameError\u001B[0m                                 Traceback (most recent call last)",
      "Cell \u001B[1;32mIn[1], line 2\u001B[0m\n\u001B[0;32m      1\u001B[0m \u001B[38;5;66;03m# 注册所有DataFrame为临时视图\u001B[39;00m\n\u001B[1;32m----> 2\u001B[0m \u001B[38;5;28;01mfor\u001B[39;00m name, df \u001B[38;5;129;01min\u001B[39;00m \u001B[43mdataframes\u001B[49m\u001B[38;5;241m.\u001B[39mitems():\n\u001B[0;32m      3\u001B[0m     df\u001B[38;5;241m.\u001B[39mcreateOrReplaceTempView(name)\n\u001B[0;32m      5\u001B[0m \u001B[38;5;66;03m# SQL查询示例\u001B[39;00m\n",
      "\u001B[1;31mNameError\u001B[0m: name 'dataframes' is not defined"
     ]
    }
   ],
   "source": [],
   "metadata": {
    "collapsed": false,
    "ExecuteTime": {
     "end_time": "2024-04-12T05:25:51.788736Z",
     "start_time": "2024-04-12T05:25:51.340967Z"
    }
   },
   "id": "fd0d8063f179e8fd",
   "execution_count": 1
  },
  {
   "cell_type": "code",
   "outputs": [],
   "source": [],
   "metadata": {
    "collapsed": false
   },
   "id": "250f9de3e6d0b874"
  }
 ],
 "metadata": {
  "kernelspec": {
   "display_name": "Python 3",
   "language": "python",
   "name": "python3"
  },
  "language_info": {
   "codemirror_mode": {
    "name": "ipython",
    "version": 2
   },
   "file_extension": ".py",
   "mimetype": "text/x-python",
   "name": "python",
   "nbconvert_exporter": "python",
   "pygments_lexer": "ipython2",
   "version": "2.7.6"
  }
 },
 "nbformat": 4,
 "nbformat_minor": 5
}
